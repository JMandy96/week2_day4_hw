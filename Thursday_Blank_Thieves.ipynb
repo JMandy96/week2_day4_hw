{
 "cells": [
  {
   "cell_type": "markdown",
   "metadata": {},
   "source": [
    "# Object-Oriented-Programming (OOP)"
   ]
  },
  {
   "cell_type": "markdown",
   "metadata": {},
   "source": [
    "## Tasks Today:\n",
    "\n",
    "   \n",
    "\n",
    "1) <b>Creating a Class (Initializing/Declaring)</b> <br>\n",
    "2) <b>Using a Class (Instantiating)</b> <br>\n",
    " &nbsp;&nbsp;&nbsp;&nbsp; a) Creating One Instance <br>\n",
    " &nbsp;&nbsp;&nbsp;&nbsp; b) Creating Multiple Instances <br>\n",
    " &nbsp;&nbsp;&nbsp;&nbsp; c) In-Class Exercise #1 - Create a Class 'Car' and instantiate three different makes of cars <br>\n",
    "3) <b>The \\__init\\__() Method</b> <br>\n",
    " &nbsp;&nbsp;&nbsp;&nbsp; a) The 'self' Attribute <br>\n",
    "4) <b>Class Attributes</b> <br>\n",
    " &nbsp;&nbsp;&nbsp;&nbsp; a) Initializing Attributes <br>\n",
    " &nbsp;&nbsp;&nbsp;&nbsp; b) Setting an Attribute Outside of the \\__init\\__() Method <br>\n",
    " &nbsp;&nbsp;&nbsp;&nbsp; c) Setting Defaults for Attributes <br>\n",
    " &nbsp;&nbsp;&nbsp;&nbsp; d) Accessing Class Attributes <br>\n",
    " &nbsp;&nbsp;&nbsp;&nbsp; e) Changing Class Attributes <br>\n",
    " &nbsp;&nbsp;&nbsp;&nbsp; f) In-Class Exercise #2 - Add a color and wheels attribute to your 'Car' class <br>\n",
    "5) <b>Class Methods</b> <br>\n",
    " &nbsp;&nbsp;&nbsp;&nbsp; a) Creating <br>\n",
    " &nbsp;&nbsp;&nbsp;&nbsp; b) Calling <br>\n",
    " &nbsp;&nbsp;&nbsp;&nbsp; c) Modifying an Attribute's Value Through a Method <br>\n",
    " &nbsp;&nbsp;&nbsp;&nbsp; d) Incrementing an Attribute's Value Through a Method <br>\n",
    " &nbsp;&nbsp;&nbsp;&nbsp; e) In-Class Exercise #3 - Add a method that prints the cars color and wheel number, then call them <br>\n",
    "6) <b>Inheritance</b> <br>\n",
    " &nbsp;&nbsp;&nbsp;&nbsp; a) Syntax for Inheriting from a Parent Class <br>\n",
    " &nbsp;&nbsp;&nbsp;&nbsp; b) The \\__init\\__() Method for a Child Class (super()) <br>\n",
    " &nbsp;&nbsp;&nbsp;&nbsp; c) Defining Attributes and Methods for the Child Class <br>\n",
    " &nbsp;&nbsp;&nbsp;&nbsp; d) Method Overriding <br>\n",
    " &nbsp;&nbsp;&nbsp;&nbsp; e) In-Class Exercise #4 - Create a class 'Ford' that inherits from 'Car' class and initialize it as a Blue Ford Explorer with 4 wheels using the super() method <br>\n",
    "7) <b>Classes as Attributes</b> <br>\n",
    "8) <b>Exercises</b> <br>\n",
    " &nbsp;&nbsp;&nbsp;&nbsp; a) Exercise #1 - Turn the shopping cart program from yesterday into an object-oriented program <br>"
   ]
  },
  {
   "cell_type": "markdown",
   "metadata": {},
   "source": [
    "## Creating a Class (Initializing/Declaring)\n",
    "<p>When creating a class, function, or even a variable you are initializing that object. Initializing and Declaring occur at the same time in Python, whereas in lower level languages you have to declare an object before initializing it. This is the first step in the process of using a class.</p>"
   ]
  },
  {
   "cell_type": "code",
   "execution_count": 2,
   "metadata": {},
   "outputs": [],
   "source": [
    "class car():\n",
    "    wheels = 4\n",
    "    color = 'blue'\n",
    "    \n"
   ]
  },
  {
   "cell_type": "markdown",
   "metadata": {},
   "source": [
    "## Using a Class (Instantiating)\n",
    "<p>The process of creating a class is called <i>Instantiating</i>. Each time you create a variable of that type of class, it is referred to as an <i>Instance</i> of that class. This is the second step in the process of using a class.</p>"
   ]
  },
  {
   "cell_type": "markdown",
   "metadata": {},
   "source": [
    "##### Creating One Instance"
   ]
  },
  {
   "cell_type": "code",
   "execution_count": 10,
   "metadata": {},
   "outputs": [
    {
     "name": "stdout",
     "output_type": "stream",
     "text": [
      "4\n",
      "blue\n"
     ]
    }
   ],
   "source": [
    "ford = car()\n",
    "print(ford.wheels)\n",
    "print(ford.color)"
   ]
  },
  {
   "cell_type": "markdown",
   "metadata": {},
   "source": [
    "##### Creating Multiple Instances"
   ]
  },
  {
   "cell_type": "code",
   "execution_count": 11,
   "metadata": {},
   "outputs": [
    {
     "name": "stdout",
     "output_type": "stream",
     "text": [
      "<__main__.car object at 0x0000018928E148D0>\n",
      "<__main__.car object at 0x00000189293792D0>\n"
     ]
    }
   ],
   "source": [
    "nissan = car()\n",
    "chevy = car()\n",
    "print(nissan)\n",
    "print(chevy)"
   ]
  },
  {
   "cell_type": "markdown",
   "metadata": {},
   "source": [
    "##### In-Class Exercise #1 - Create a Class 'Car' and Instantiate three different makes of cars"
   ]
  },
  {
   "cell_type": "code",
   "execution_count": null,
   "metadata": {},
   "outputs": [],
   "source": [
    "class car():\n",
    "    wheels = 4\n",
    "    color = 'black'\n",
    "\n",
    "Jeep = car()\n",
    "chevy = car()\n",
    "Ford = car()"
   ]
  },
  {
   "cell_type": "markdown",
   "metadata": {},
   "source": [
    "## The \\__init\\__() Method <br>\n",
    "<p>This method is used in almost every created class, and called only once upon the creation of the class instance. This method will initialize all variables needed for the object.</p>"
   ]
  },
  {
   "cell_type": "code",
   "execution_count": 16,
   "metadata": {},
   "outputs": [
    {
     "name": "stdout",
     "output_type": "stream",
     "text": [
      "Black\n",
      "v4\n",
      "4\n",
      "4\n"
     ]
    }
   ],
   "source": [
    "class car():\n",
    "    wheels = 4\n",
    "    #init uses 2 underscores on each side\n",
    "    def __init__(self, make, model, year, color, engine):\n",
    "        self.make = make\n",
    "        self.model = model\n",
    "        self.year = year\n",
    "        self.color = color\n",
    "        self.engine = engine\n",
    "#self is the current instance i am dealing with\n",
    "nissan = car('Nissan', 'Altima', 2017, 'White', 'v4')\n",
    "\n",
    "ford = car('Ford', 'Raptor', 2018, 'Black', 'v8')\n",
    "\n",
    "#accesss instance attributes\n",
    "print(ford.color)\n",
    "print(nissan.engine)\n",
    "# access class attributes\n",
    "print(ford.wheels)\n",
    "print(nissan.wheels)\n"
   ]
  },
  {
   "cell_type": "markdown",
   "metadata": {},
   "source": [
    "##### The 'self' Attribute <br>\n",
    "<p>This attribute is required to keep track of specific instance's attributes. Without the self attribute, the program would not know how to reference or keep track of an instance's attributes.</p>"
   ]
  },
  {
   "cell_type": "code",
   "execution_count": null,
   "metadata": {},
   "outputs": [],
   "source": [
    "# see above"
   ]
  },
  {
   "cell_type": "markdown",
   "metadata": {},
   "source": [
    "## Class Attributes <br>\n",
    "<p>While variables are inside of a class, they are referred to as attributes and not variables. When someone says 'attribute' you know they're speaking about a class. Attributes can be initialized through the init method, or outside of it.</p>"
   ]
  },
  {
   "cell_type": "markdown",
   "metadata": {},
   "source": [
    "##### Initializing Attributes"
   ]
  },
  {
   "cell_type": "code",
   "execution_count": null,
   "metadata": {},
   "outputs": [],
   "source": [
    "# see above"
   ]
  },
  {
   "cell_type": "markdown",
   "metadata": {},
   "source": [
    "##### Accessing Class Attributes"
   ]
  },
  {
   "cell_type": "code",
   "execution_count": null,
   "metadata": {
    "scrolled": true
   },
   "outputs": [],
   "source": [
    "# See Above"
   ]
  },
  {
   "cell_type": "markdown",
   "metadata": {},
   "source": [
    "##### Setting Defaults for Attributes"
   ]
  },
  {
   "cell_type": "code",
   "execution_count": 2,
   "metadata": {},
   "outputs": [
    {
     "name": "stdout",
     "output_type": "stream",
     "text": [
      "4\n",
      "2\n"
     ]
    }
   ],
   "source": [
    "class vehicle:\n",
    "\n",
    "    def __init__(self, make, model, classification, wheels=4):\n",
    "        self.make = make\n",
    "        self.model = model\n",
    "        self.classification = classification\n",
    "        self.wheels = wheels\n",
    "\n",
    "my_car = vehicle('Jeep', 'Cherokee', 'SUV')\n",
    "print(my_car.wheels)\n",
    "\n",
    "motorcycle = vehicle('Harley', 'Fat Bob', 'Motorcycle', 2)\n",
    "print(motorcycle.wheels)"
   ]
  },
  {
   "attachments": {},
   "cell_type": "markdown",
   "metadata": {},
   "source": [
    "##### Changing Instance Attributes <br>\n",
    "<p>Keep in mind there are global class attributes and then there are attributes only available to each class instance which won't effect other classes.</p>"
   ]
  },
  {
   "cell_type": "code",
   "execution_count": 3,
   "metadata": {},
   "outputs": [
    {
     "name": "stdout",
     "output_type": "stream",
     "text": [
      "SUV\n",
      "sedan\n"
     ]
    }
   ],
   "source": [
    "# see above\n",
    "print(my_car.classification)\n",
    "my_car.classification = 'sedan'\n",
    "print(my_car.classification)"
   ]
  },
  {
   "cell_type": "markdown",
   "metadata": {},
   "source": [
    "##### In-Class Exercise #2 - Add a doors and seats attribute to your 'Car' class then print out two different instances with different doors and seats"
   ]
  },
  {
   "cell_type": "code",
   "execution_count": 7,
   "metadata": {},
   "outputs": [
    {
     "name": "stdout",
     "output_type": "stream",
     "text": [
      "4\n",
      "5\n"
     ]
    }
   ],
   "source": [
    "class car:\n",
    "    wheels = 4\n",
    "     \n",
    "    def __init__(self, doors, seats):\n",
    "        self.doors = doors\n",
    "        self.seats = seats\n",
    "\n",
    "Ford = car(4, 5)\n",
    "print(Ford.doors)\n",
    "print(Ford.seats) "
   ]
  },
  {
   "cell_type": "markdown",
   "metadata": {},
   "source": [
    "## Class Methods <br>\n",
    "<p>While inside of a class, functions are referred to as 'methods'. If you hear someone mention methods, they're speaking about classes. Methods are essentially functions, but only callable on the instances of a class.</p>"
   ]
  },
  {
   "cell_type": "markdown",
   "metadata": {},
   "source": [
    "##### Creating"
   ]
  },
  {
   "cell_type": "code",
   "execution_count": 19,
   "metadata": {},
   "outputs": [
    {
     "name": "stdout",
     "output_type": "stream",
     "text": [
      "Hi, my name is Jake. I am 27 years old and I have Brown eyes\n",
      "You have changed your name to JMandy\n",
      "Happy Birthday! your're 28\n"
     ]
    }
   ],
   "source": [
    "class person():\n",
    "    species = 'human'\n",
    "\n",
    "    def __init__(self, name, age, eyecolor='Brown'):\n",
    "        self.name = name\n",
    "        self.age = age\n",
    "        self.eyecolor = eyecolor\n",
    "\n",
    "    def getinfo(self):\n",
    "        return f'Hi, my name is {self.name}. I am {self.age} years old and I have {self.eyecolor} eyes'\n",
    "    \n",
    "    def namechange(self, new_name):\n",
    "        self.name = new_name\n",
    "        print(f'You have changed your name to {self.name}')\n",
    "\n",
    "    def birthday(self):\n",
    "        self.age += 1\n",
    "        print(f'Happy Birthday! your\\'re {self.age}')\n",
    "\n",
    "\n",
    "me = person('Jake', 27)\n",
    "#using class methods\n",
    "print(me.getinfo())\n",
    "#modifying instance attribute\n",
    "me.namechange('JMandy')\n",
    "#incrementing instance attribute\n",
    "me.birthday()"
   ]
  },
  {
   "cell_type": "markdown",
   "metadata": {},
   "source": [
    "##### Calling"
   ]
  },
  {
   "cell_type": "code",
   "execution_count": null,
   "metadata": {},
   "outputs": [],
   "source": [
    "# See Above\n",
    "\n"
   ]
  },
  {
   "cell_type": "markdown",
   "metadata": {},
   "source": [
    "##### Modifying an Attribute's Value Through a Method"
   ]
  },
  {
   "cell_type": "code",
   "execution_count": null,
   "metadata": {},
   "outputs": [],
   "source": [
    "# see above\n"
   ]
  },
  {
   "cell_type": "markdown",
   "metadata": {},
   "source": [
    "##### Incrementing an Attribute's Value Through a Method"
   ]
  },
  {
   "cell_type": "code",
   "execution_count": null,
   "metadata": {},
   "outputs": [],
   "source": [
    "# see above\n"
   ]
  },
  {
   "cell_type": "markdown",
   "metadata": {},
   "source": [
    "## Inheritance <br>\n",
    "<p>You can create a child-parent relationship between two classes by using inheritance. What this allows you to do is have overriding methods, but also inherit traits from the parent class. Think of it as an actual parent and child, the child will inherit the parent's genes, as will the classes in OOP</p>"
   ]
  },
  {
   "cell_type": "markdown",
   "metadata": {},
   "source": [
    "##### Syntax for Inheriting from a Parent Class"
   ]
  },
  {
   "cell_type": "code",
   "execution_count": 25,
   "metadata": {},
   "outputs": [
    {
     "name": "stdout",
     "output_type": "stream",
     "text": [
      "Hello, my name is Penny, I'm a white, orange, and black kitty, and I have 4 legs\n",
      "I love  breathing air\n"
     ]
    }
   ],
   "source": [
    "class mammal():\n",
    "    fur = True\n",
    "    def __init__(self, fur_color, species, legs=4):\n",
    "        self.fur_color = fur_color\n",
    "        self.species = species\n",
    "        self.legs = legs\n",
    "\n",
    "    def breath(self):\n",
    "        return 'I love  breathing air'\n",
    "    #dog will inherit the mammal class attributes\n",
    "class dog(mammal):\n",
    "    def __init__(self, name, breed, fur_color, legs=4):\n",
    "        #grabs these from the mammal class.\n",
    "        super().__init__(fur_color, legs)\n",
    "        self.name = name\n",
    "        self.breed = breed\n",
    "\n",
    "    def greet(self):\n",
    "        return f'Hello, my name is {self.name}, I\\'m a {self.fur_color} {self.breed}, and I have {self.legs} legs'\n",
    "    \n",
    "my_dog = dog(\"Penny\", \"kitty\", \"white, orange, and black\")\n",
    "print(my_dog.greet())\n",
    "print(my_dog.breath())"
   ]
  },
  {
   "cell_type": "markdown",
   "metadata": {},
   "source": [
    "##### The \\__init\\__() Method for a Child Class - super()"
   ]
  },
  {
   "cell_type": "code",
   "execution_count": null,
   "metadata": {
    "scrolled": true
   },
   "outputs": [],
   "source": [
    "# see above"
   ]
  },
  {
   "cell_type": "markdown",
   "metadata": {},
   "source": [
    "##### Defining Attributes and Methods for the Child Class"
   ]
  },
  {
   "cell_type": "code",
   "execution_count": null,
   "metadata": {},
   "outputs": [],
   "source": [
    "# See Above"
   ]
  },
  {
   "cell_type": "markdown",
   "metadata": {},
   "source": [
    "# Exercises"
   ]
  },
  {
   "cell_type": "markdown",
   "metadata": {},
   "source": [
    "### Exercise 1 - Turn the shopping cart program from yesterday into an object-oriented program\n",
    "\n",
    "The comments in the cell below are there as a guide for thinking about the problem. However, if you feel a different way is best for you and your own thought process, please do what feels best for you by all means."
   ]
  },
  {
   "cell_type": "code",
   "execution_count": 10,
   "metadata": {},
   "outputs": [
    {
     "name": "stdout",
     "output_type": "stream",
     "text": [
      "Okay, lets check your shopping cart for Kroger\n",
      "from Kroger you need:\n",
      "5 apples\n",
      "from Kroger you need:\n",
      "15 apples\n",
      "from Kroger you need:\n",
      "15 apples\n",
      "10 bananas\n",
      "from Kroger you need:\n",
      "15 apples\n",
      "10 bananas\n",
      "from Kroger you need:\n",
      "10 apples\n",
      "10 bananas\n",
      "from Kroger you need: \n",
      "10 apples\n",
      "10 bananas\n"
     ]
    }
   ],
   "source": [
    "# Create a class called cart that retains items and has methods to add, remove, and show\n",
    "\n",
    "class Cart():\n",
    "    \n",
    "    def __init__(self):\n",
    "        self.store = ''\n",
    "        self.items = {\n",
    "\n",
    "        }\n",
    "\n",
    "    def what_store(self, store):\n",
    "        self.store = store\n",
    "\n",
    "    def runner(self):\n",
    "        \"\"\"allows you to access and edit your shopping list\"\"\"\n",
    "\n",
    "        #ask user what store they need to go to and store it\n",
    "        store = input('What store do you need to shop at?').title()\n",
    "        self.what_store(store)\n",
    "\n",
    "        print(f\"Okay, lets check your shopping cart for {store}\")\n",
    "\n",
    "        #use a while loop to see what the user wants to do to thier shopping list.\n",
    "        while True:\n",
    "            choice = input(\"Would you like to view, add to, remove, or complete your list?\").lower()\n",
    "\n",
    "            if choice in ('show', 'view', 'see'):\n",
    "                print(f'from {store} you need:')\n",
    "                for k,v in self.items.items():\n",
    "                    print(f'{v} {k}')\n",
    "            \n",
    "            elif choice in ('add', 'add to', 'include'):\n",
    "                item = input(\"What would you like to add? \")\n",
    "                if item in self.items:\n",
    "                    add = int(input(f\"How many additional {item.rstrip('s')}s would you like to get? \"))\n",
    "                    count = self.items[item]\n",
    "                    count += add\n",
    "                else: \n",
    "                    count = int(input(f\"How many {item.rstrip('s')}s would you like to get? \"))\n",
    "                self.items[item] = count\n",
    "\n",
    "            elif choice in ('delete', 'remove', 'less of', 'reduce'):\n",
    "                remove = input(\"What would you like to remove? \")\n",
    "                if remove in self.items:\n",
    "                    decrease = int(input(f\"how many {remove} would you like to remove? \"))\n",
    "                    count = self.items[remove]\n",
    "                    count -= decrease\n",
    "                    if count <= 0:\n",
    "                        del self.items[remove]\n",
    "                    else:\n",
    "                        self.items[remove] = count\n",
    "\n",
    "            elif choice in ('quit', 'cancel', 'finish', 'complete', 'done'):\n",
    "                break\n",
    "\n",
    "            else:\n",
    "                print('That is not a valid option.')\n",
    "\n",
    "\n",
    "    def print_cart(self):\n",
    "        print(f'from {self.store} you need: ')\n",
    "        for k,v in self.items.items():\n",
    "            print(f'{v} {k}')\n",
    "\n",
    "groceries = Cart()\n",
    "\n",
    "groceries.runner()\n",
    "groceries.print_cart()\n",
    "\n",
    "\n",
    "\n",
    "                \n",
    "\n",
    "\n"
   ]
  },
  {
   "cell_type": "markdown",
   "metadata": {},
   "source": [
    "### Exercise 2 - Write a Python class which has two methods get_String and print_String. get_String accept a string from the user and print_String print the string in upper case"
   ]
  },
  {
   "cell_type": "code",
   "execution_count": 42,
   "metadata": {},
   "outputs": [
    {
     "name": "stdout",
     "output_type": "stream",
     "text": [
      "HELLO THIS IS A TEST\n"
     ]
    }
   ],
   "source": [
    "class sample():\n",
    "\n",
    "    def __init__(self, get_string):\n",
    "        get_string = input(\"what would you like to say?\")\n",
    "        if get_string == '':\n",
    "            get_string = 'you did not enter an input.'\n",
    "            self.get_string = get_string\n",
    "        else:\n",
    "            self.get_string = get_string\n",
    "        \n",
    "\n",
    "    def print_string(self):\n",
    "        return f'{self.get_string.upper()}'\n",
    "    \n",
    "\n",
    "my_string = sample(get_string = None)\n",
    "print(my_string.print_string())\n"
   ]
  }
 ],
 "metadata": {
  "kernelspec": {
   "display_name": "Python 3",
   "language": "python",
   "name": "python3"
  },
  "language_info": {
   "codemirror_mode": {
    "name": "ipython",
    "version": 3
   },
   "file_extension": ".py",
   "mimetype": "text/x-python",
   "name": "python",
   "nbconvert_exporter": "python",
   "pygments_lexer": "ipython3",
   "version": "3.11.4"
  },
  "vscode": {
   "interpreter": {
    "hash": "aa82987a71ca0339a52998cd22613b0c002bda8349fa32a0cb67ceec3936a2bf"
   }
  }
 },
 "nbformat": 4,
 "nbformat_minor": 2
}
